{
  "cells": [
    {
      "cell_type": "markdown",
      "metadata": {
        "id": "5rUp2xWkdGFu"
      },
      "source": [
        "# Homework 1: Autoregressive models"
      ]
    },
    {
      "cell_type": "markdown",
      "metadata": {
        "id": "4_VGhK3E96-I"
      },
      "source": [
        "## Task 1. Theory (5pt)"
      ]
    },
    {
      "cell_type": "markdown",
      "metadata": {
        "id": "QLGp4c5UPByO"
      },
      "source": [
        "### Problem 1: Sampling from KDE (2pt)\n",
        "\n",
        "Let $\\hat{p}_h(x) = \\frac{1}{n h^d} \\sum\\limits_{i = 1}^{n} K\\left(\\frac{x - X_i}{h}\\right)$ is the Kernel Density Estimator (see seminar 1) of a density $p_{\\pi}$, where $X_1, \\dots, X_n \\sim p_{\\pi}$, $X_i \\in \\mathbb{R}^d$.\n",
        "\n",
        "Consider the following sampling scheme:\n",
        ">\n",
        ">1. Choose random number $k$ uniformly from the collection of numbers $\\{1, 2, \\dots, n\\}$.\n",
        ">\n",
        ">2. Sample the random variable $\\tilde{X}$ from the kernel $\\frac{1}{h^d} K\\left(\\frac{x - X_k}{h}\\right)$.\n",
        ">\n",
        "\n",
        "Prove, that $\\tilde{X}$ is distributed according to $\\hat{p}_h(x)$, i.e. the scheme above is the correct sampling scheme for $\\hat{p}_h(x)$."
      ]
    },
    {
      "cell_type": "markdown",
      "metadata": {
        "id": "P0HFuytJPQ7o"
      },
      "source": [
        "```\n",
        "your solution for problem 1\n",
        "```\n",
        "Покажем что распределение вероятности последовательного выполнения $1$ и $2$ пункта та же что и $\\hat{p}_h$, т.е.:\n",
        "$$\n",
        "\\hat{p}_h(x) == \\sum_i p_u(k) \\cdot \\tilde{p}(x | k = i)\n",
        "$$\n",
        "\n",
        "Легко увидеть, что так оно и есть. Рассмотрим некое распределние вероятности, того что произшло и первое и второе событие:\n",
        "$$\n",
        "p(x) = \\sum_k p_u(k) \\cdot \\tilde{p}(x | k = i)\\\\\n",
        "p_u(k) = \\frac{1}{n}\\\\\n",
        "\\tilde{p}_k(x) = \\tilde{p}(x | k) = \\frac{1}{h^d}K\\left(\\frac{x-X_k}{h}\\right)\n",
        "̃$$\n",
        "\n",
        "Второе событие по условию первого имеет то же распределение, просто темерь у него нет гиперпараметра $k$, а оно задается событие перед ним.\n",
        "Соибраем все вместе и получаем.\n",
        "\n",
        "$$\n",
        "p(x) = \\sum_k \\frac{1}{n}\\cdot \\frac{1}{h^d}K\\left(\\frac{x-X_k}{h}\\right) = \\frac{1}{nh^d} \\sum K\\left(\\frac{x-X_k}{h}\\right)\n",
        "$$\n",
        "\n",
        "чтд."
      ]
    },
    {
      "cell_type": "markdown",
      "metadata": {
        "id": "tk8-eCJuaTrU"
      },
      "source": [
        "### Problem 2: MADE theory (2pt)\n",
        "\n",
        "Consider the [MADE](https://arxiv.org/abs/1502.03509) model with a single hidden layer (we have discussed it at seminar 2). The input object is $\\mathbf{x} \\in \\mathbb{R}^m$. We denote by $\\mathbf{W} \\in \\mathbb{R}^{h \\times m}$ the matrix of weights between the input and the hidden layer, and by $\\mathbf{V} \\in \\mathbb{R}^{m \\times h}$ the matrix of weights between the hidden and the output layer ($h$ is the number of neurons in the hidden layer). Let us generate the correct autoregressive masks $\\mathbf{M}_{\\mathbf{W}} \\in \\mathbb{R}^{h \\times m}$ and $\\mathbf{M}_{\\mathbf{V}} \\in \\mathbb{R}^{m \\times h}$ (the generation algorithm is given in Lecture 1) for the direct order of variables\n",
        "$$\n",
        "    p(\\mathbf{x}) = p(x_1) \\cdot p(x_2 | x_1) \\cdot \\dots \\cdot p(x_m | x_{m-1}, \\dots, x_1).\n",
        "$$ \n",
        "(The order of neurons is given by indices at the probabilities in the formula. In this case, it is a direct order.)\n",
        "\n",
        "Each mask is a binary matrix of 0 and 1. Let's introduce the matrix $\\mathbf{M} = \\mathbf{M}_{\\mathbf{V}} \\mathbf{M}_{\\mathbf{W}}$. Prove that:\n",
        "* $\\mathbf{M}$ is strictly lower triangular (has zeros on the diagonal and above the diagonal);\n",
        "* $\\mathbf{M}_{ij}$  is equal to the number of paths in the network graph between the output neuron $\\hat{x}_i$ and the input neuron $x_j$."
      ]
    },
    {
      "cell_type": "code",
      "execution_count": null,
      "metadata": {
        "id": "kNGR6fP5iMRt"
      },
      "outputs": [],
      "source": [
        "import numpy as np\n",
        "\n",
        "outp = np.arange(3)\n",
        "hidden = np.random.randint(0, 2, 5)\n",
        "inp = np.arange(3)"
      ]
    },
    {
      "cell_type": "code",
      "execution_count": null,
      "metadata": {
        "colab": {
          "base_uri": "https://localhost:8080/"
        },
        "id": "J1ix5BuZg7bm",
        "outputId": "b57b19d6-8b6e-44f1-ffb6-b8eb79d1cd24"
      },
      "outputs": [
        {
          "name": "stdout",
          "output_type": "stream",
          "text": [
            "  [0 1 2] <--- output\n",
            "\n",
            "[0 1 0 1 0]\n",
            "\n",
            "  [0 1 2] <--- input\n",
            "\n",
            "\n",
            "output matrix M_v\n",
            "[[0 0 0 0 0]\n",
            " [1 0 1 0 1]\n",
            " [1 1 1 1 1]] \n",
            "\n",
            "input matrix M_w \n",
            "[[1 0 0]\n",
            " [1 1 0]\n",
            " [1 0 0]\n",
            " [1 1 0]\n",
            " [1 0 0]] \n",
            "\n",
            "result M_v@M_w \n",
            "[[0 0 0]\n",
            " [3 0 0]\n",
            " [5 2 0]]\n"
          ]
        }
      ],
      "source": [
        "print(\" \", outp, \"<--- output\")\n",
        "print()\n",
        "print(hidden)\n",
        "print()\n",
        "print(\" \", inp, \"<--- input\\n\\n\")\n",
        "\n",
        "M_v = np.array([[hidden[j] < outp[i] for j in range(hidden.size)] for i in range(outp.size)], dtype=int)\n",
        "M_w = np.array([[inp[j] <= hidden[i] for j in range(inp.size)] for i in range(hidden.size)], dtype=int)\n",
        "print(\"output matrix M_v\")\n",
        "print(M_v, '\\n')\n",
        "\n",
        "print(\"input matrix M_w \")\n",
        "print(M_w, '\\n')\n",
        "\n",
        "print(\"result M_v@M_w \", M_v@M_w, sep='\\n')"
      ]
    },
    {
      "cell_type": "markdown",
      "metadata": {
        "id": "erVRXwzqPHwV"
      },
      "source": [
        "```\n",
        "your solution for problem 2\n",
        "```\n",
        "\n",
        "Два допущения:\n",
        "1. Первый и последний слой идут в натуральном порядке.\n",
        "2. Номера нейронов в hidden слое, меньше чем $d$, где d -- размер входа\n",
        "\n",
        "№1<br>\n",
        "В $i$-ом столбце матрицы $M_w$ стоит единичка, если $k$-ый нейрон в hidden слое имеет номер не меньше чем $i$.\n",
        "\n",
        "В $j$-ом строке матрицы $M_v$ стоит единичка, если $k$-ый нейрон в hidden слое имеет номер меньше чем $j$.\n",
        "\n",
        "В матрице $M$ каждый $(i, j)$ элемент это $\\sum_k [k \\geq i][k < i]$\n",
        "Что строго равно нулю если $i\\geq j$. То есть нижне треугольная. Чтд.\n",
        "\n",
        "№2<br>\n",
        "Докажем через индукцию. Что если существует такая матрица на $(i, j)$ месте стоит количество путей из $j$-ого нейрона входа в $i$-ый нейрон выхода, и эту матрицу мы перемножим на маску для нового слоя выхода, то мы снова получим матрицу с теми же свойствами.\n",
        "\n",
        "База: M_w - матрица для которой на $(i, j)$ месте количество ($1$ or $0$) путей из входного $j$-ого нейрона на $i$-ый нейрон hidden слоя.\n",
        "\n",
        "Шаг индукции:\n",
        "$M_{i,j} = \\sum_k M_{v i, k} \\cdot M_{w k, j}$, каждое произведение это количество путей дойти до $k$-ого нейрона умножить на возможность ($1$ or $0$) дойти из $k$-ого нейрона в $i$-ый выход. Проссумирем по всем старым выходам (т.е. по $k$) и снова получим количество путей из входного $j$-ого нейрона на $i$-ый нейрон выхода.\n",
        "\n",
        "Таким образом правильный подсчет $M$ для модели любой глубины даст нам количество путей из каждого входа в каждый выход.\n"
      ]
    },
    {
      "cell_type": "markdown",
      "metadata": {
        "id": "ivV4DY1SPEIL"
      },
      "source": [
        "### Problem 3: $\\alpha$-divergence (1pt)\n",
        "\n",
        "In the course, we will meet different divergences (not only $KL$). So let's get acquainted with the class of $\\alpha$-divergences:\n",
        "$$\n",
        "    D_{\\alpha}(p || q) = \\frac{4}{1 - \\alpha^2} \\left( 1 - \\int p(x)^{\\frac{1 + \\alpha}{2}}q(x)^{\\frac{1 - \\alpha}{2}}dx\\right).\n",
        "$$\n",
        "For each $\\alpha \\in [-\\infty; +\\infty]$ the function $D_{\\alpha} (p || q)$ is a measure of the similarity between two distributions. $D_{\\alpha} (p || q)$ has different properties for different $\\alpha$.\n",
        "\n",
        "Prove that for $\\alpha \\rightarrow 1$ the divergence $D_{\\alpha}(p || q) \\rightarrow KL(p || q)$, and for $\\alpha \\rightarrow -1$ the divergence $D_{\\alpha}(p || q) \\rightarrow KL(q || p)$. \n",
        "\n",
        "**Hint:** use the fact that $t^\\varepsilon = \\exp(\\varepsilon \\cdot \\ln t) = 1 + \\varepsilon \\cdot \\ln t + O(\\varepsilon^2)$."
      ]
    },
    {
      "cell_type": "markdown",
      "metadata": {
        "id": "BqxJ4ifT96-N"
      },
      "source": [
        "```\n",
        "your solution for problem 3\n",
        "```\n",
        "Без ограничения общности рассмотрим $\\alpha \\to 1$\n",
        "\n",
        "$$\n",
        "p(x)^\\frac{1 + \\alpha}{2} = p(x)^\\frac{\\alpha - 1}{2} \\cdot p(x).\\\\\n",
        "D_{\\alpha}(p || q) = \\frac{4}{1 - \\alpha^2} \\left( 1 - \\int p(x)^{\\frac{1 + \\alpha}{2}}q(x)^{\\frac{1 - \\alpha}{2}}dx\\right) = \\\\\n",
        "= \\frac{4}{1 - \\alpha^2} \\left( 1 - \\int p(x)\\cdot \\left(\\frac{q(x)}{p(x)}\\right)^{\\frac{1 - \\alpha}{2}}dx\\right) =|\\text{hint}| = - \\frac{4(1 - \\alpha)}{2(1 - \\alpha^2)} \\left(\\int p(x)\\cdot \\ln\\frac{q(x)}{p(x)} dx\\right) =\\\\\n",
        "= -\\frac{2}{1  + \\alpha} \\int p(x)\\cdot ln\\frac{q(x)}{p(x)}dx → KL(p||q).\n",
        "$$\n",
        "\n",
        "чтд.<br>\n",
        "Аналогично с $\\alpha \\to -1$."
      ]
    },
    {
      "cell_type": "markdown",
      "metadata": {
        "id": "ZB-BwxUy96-P"
      },
      "source": [
        "### Problem 4*: Histogram for continuous random vectors in $\\mathbb{R}^d$ (extra 2pt)\n",
        "\n",
        "Let $\\xi \\in \\mathbb{R}^d$ is an absolutely continuous random vector in with probability density function $p_{\\xi}(x)$ , such that $\\,\\text{supp}(p_{\\xi}) \\subseteq [0, 1]^{d}$ ($p_{\\xi}(x) = 0 \\,\\, \\forall x \\in \\mathbb{R}^d \\backslash [0, 1]^d$). Additionally assume, that $p_{\\xi}$ is *Lipschitz continuous* with Lipschitz constant $L$, i.e.:\n",
        "$$\n",
        "\\vert p_{\\xi}(x) - p_{\\xi}(y) \\vert \\leq L \\Vert x - y \\Vert_2\\ \\forall x, y \\in \\mathbb{R}^d .\n",
        "$$  \n",
        "\n",
        "Let $X_1, X_2, \\dots, X_n$ be i.i.d sample from $\\xi$. Consider dividing the hypercube $[0, 1]^d$ into subcubes $C_1, C_2, \\dots, C_N$ with the side length equals to $h$ (i.e. we obtain $N = \\left(\\frac{1}{h}\\right)^{d}$ subcubes). The histogram density estimator is as follows: \n",
        "\n",
        "$$\n",
        "\\hat{p}_h(x) = \\sum\\limits_{j = 1}^{N} \\frac{\\hat{\\theta_j}}{h^d} I\\left( x \\in C_j\\right).\n",
        "$$\n",
        "\n",
        "In the equation above $I(\\,\\cdot\\,)$ is the indicator function and $\\hat{\\theta_j} = \\frac{1}{n} \\sum\\limits_{i = 1}^{n} I(X_i \\in C_j)$.\n",
        "\n",
        "Let's estimate the discrepancy between true density $p_{\\xi}(x)$ and histogram density estimator $\\hat{p}_h(x)$. Consider the $MSE(x, h) = \\mathbb{E}(\\hat{p}_h(x)) - p_{\\xi}(x))^2$ (the expectation is taken over sample $X_1, \\dots, X_n$). \n",
        "\n",
        "* (a) Find an upper bound on $MSE(x, h)$ in terms of $L, h, d, n$. (**Hint:** utilize bias - variance decomposition and deal with each term separately) \n",
        "\n",
        "* (b) Find $h = h_n$ which minimizes the upper bound on $MSE(x, h)$. At which rate $MSE(x, h_n)$ converges to zero?"
      ]
    },
    {
      "cell_type": "markdown",
      "metadata": {
        "id": "pYrO8RmC96-R"
      },
      "source": [
        "```\n",
        "your solution for problem 4\n",
        "```"
      ]
    },
    {
      "cell_type": "markdown",
      "metadata": {
        "id": "d2LH7vKPPVUt"
      },
      "source": [
        "Now it time to move on to practical part of homework.\n",
        "\n",
        "In our course we have a small util [package](https://github.com/r-isachenko/2022-DGM-Ozon-course/blob/main/homeworks/dgm_utils/utils.py) with some usefull functions for loading and visualizing the images and training plots. In each homework there is a cell with installing this package. Please read carefully what functions we have in this package. It could help you to solve the tasks."
      ]
    },
    {
      "cell_type": "code",
      "execution_count": null,
      "metadata": {
        "colab": {
          "base_uri": "https://localhost:8080/",
          "height": 956
        },
        "id": "7wXq7VJ_SRAl",
        "outputId": "f5ce42a8-0c32-4f41-9582-0544d1b5f71e"
      },
      "outputs": [
        {
          "name": "stdout",
          "output_type": "stream",
          "text": [
            "Cloning into '2022-2023-DGM-MIPT-course'...\n",
            "remote: Enumerating objects: 403, done.\u001b[K\n",
            "remote: Counting objects: 100% (137/137), done.\u001b[K\n",
            "remote: Compressing objects: 100% (112/112), done.\u001b[K\n",
            "remote: Total 403 (delta 43), reused 101 (delta 24), pack-reused 266\u001b[K\n",
            "Receiving objects: 100% (403/403), 188.91 MiB | 36.71 MiB/s, done.\n",
            "Resolving deltas: 100% (47/47), done.\n",
            "Looking in indexes: https://pypi.org/simple, https://us-python.pkg.dev/colab-wheels/public/simple/\n",
            "Processing ./2022-2023-DGM-MIPT-course/homeworks\n",
            "\u001b[33m  DEPRECATION: A future pip version will change local packages to be built in-place without first copying to a temporary directory. We recommend you use --use-feature=in-tree-build to test your packages with this new behavior before it becomes the default.\n",
            "   pip 21.3 will remove support for this functionality. You can find discussion regarding this at https://github.com/pypa/pip/issues/7555.\u001b[0m\n",
            "Requirement already satisfied: numpy in /usr/local/lib/python3.7/dist-packages (from dgm-utils==0.1.0) (1.21.6)\n",
            "Requirement already satisfied: matplotlib in /usr/local/lib/python3.7/dist-packages (from dgm-utils==0.1.0) (3.2.2)\n",
            "Requirement already satisfied: pillow in /usr/local/lib/python3.7/dist-packages (from dgm-utils==0.1.0) (7.1.2)\n",
            "Requirement already satisfied: tqdm in /usr/local/lib/python3.7/dist-packages (from dgm-utils==0.1.0) (4.64.1)\n",
            "Requirement already satisfied: torch in /usr/local/lib/python3.7/dist-packages (from dgm-utils==0.1.0) (1.12.1+cu113)\n",
            "Requirement already satisfied: torchvision in /usr/local/lib/python3.7/dist-packages (from dgm-utils==0.1.0) (0.13.1+cu113)\n",
            "Requirement already satisfied: torchaudio in /usr/local/lib/python3.7/dist-packages (from dgm-utils==0.1.0) (0.12.1+cu113)\n",
            "Requirement already satisfied: gdown in /usr/local/lib/python3.7/dist-packages (from dgm-utils==0.1.0) (4.4.0)\n",
            "Requirement already satisfied: scikit-learn in /usr/local/lib/python3.7/dist-packages (from dgm-utils==0.1.0) (1.0.2)\n",
            "Requirement already satisfied: six in /usr/local/lib/python3.7/dist-packages (from gdown->dgm-utils==0.1.0) (1.15.0)\n",
            "Requirement already satisfied: requests[socks] in /usr/local/lib/python3.7/dist-packages (from gdown->dgm-utils==0.1.0) (2.23.0)\n",
            "Requirement already satisfied: beautifulsoup4 in /usr/local/lib/python3.7/dist-packages (from gdown->dgm-utils==0.1.0) (4.6.3)\n",
            "Requirement already satisfied: filelock in /usr/local/lib/python3.7/dist-packages (from gdown->dgm-utils==0.1.0) (3.8.0)\n",
            "Requirement already satisfied: python-dateutil>=2.1 in /usr/local/lib/python3.7/dist-packages (from matplotlib->dgm-utils==0.1.0) (2.8.2)\n",
            "Requirement already satisfied: pyparsing!=2.0.4,!=2.1.2,!=2.1.6,>=2.0.1 in /usr/local/lib/python3.7/dist-packages (from matplotlib->dgm-utils==0.1.0) (3.0.9)\n",
            "Requirement already satisfied: cycler>=0.10 in /usr/local/lib/python3.7/dist-packages (from matplotlib->dgm-utils==0.1.0) (0.11.0)\n",
            "Requirement already satisfied: kiwisolver>=1.0.1 in /usr/local/lib/python3.7/dist-packages (from matplotlib->dgm-utils==0.1.0) (1.4.4)\n",
            "Requirement already satisfied: typing-extensions in /usr/local/lib/python3.7/dist-packages (from kiwisolver>=1.0.1->matplotlib->dgm-utils==0.1.0) (4.1.1)\n",
            "Requirement already satisfied: idna<3,>=2.5 in /usr/local/lib/python3.7/dist-packages (from requests[socks]->gdown->dgm-utils==0.1.0) (2.10)\n",
            "Requirement already satisfied: urllib3!=1.25.0,!=1.25.1,<1.26,>=1.21.1 in /usr/local/lib/python3.7/dist-packages (from requests[socks]->gdown->dgm-utils==0.1.0) (1.24.3)\n",
            "Requirement already satisfied: certifi>=2017.4.17 in /usr/local/lib/python3.7/dist-packages (from requests[socks]->gdown->dgm-utils==0.1.0) (2022.9.24)\n",
            "Requirement already satisfied: chardet<4,>=3.0.2 in /usr/local/lib/python3.7/dist-packages (from requests[socks]->gdown->dgm-utils==0.1.0) (3.0.4)\n",
            "Requirement already satisfied: PySocks!=1.5.7,>=1.5.6 in /usr/local/lib/python3.7/dist-packages (from requests[socks]->gdown->dgm-utils==0.1.0) (1.7.1)\n",
            "Requirement already satisfied: joblib>=0.11 in /usr/local/lib/python3.7/dist-packages (from scikit-learn->dgm-utils==0.1.0) (1.2.0)\n",
            "Requirement already satisfied: threadpoolctl>=2.0.0 in /usr/local/lib/python3.7/dist-packages (from scikit-learn->dgm-utils==0.1.0) (3.1.0)\n",
            "Requirement already satisfied: scipy>=1.1.0 in /usr/local/lib/python3.7/dist-packages (from scikit-learn->dgm-utils==0.1.0) (1.7.3)\n",
            "Building wheels for collected packages: dgm-utils\n",
            "  Building wheel for dgm-utils (setup.py) ... \u001b[?25l\u001b[?25hdone\n",
            "  Created wheel for dgm-utils: filename=dgm_utils-0.1.0-py3-none-any.whl size=3616 sha256=872f1fb6ce1007e538b9a8f45e6f9b9cc86c78973466e621d779a05bc3ce70bb\n",
            "  Stored in directory: /tmp/pip-ephem-wheel-cache-3v7lxnwl/wheels/5f/f4/4a/b08ee969ebfaf9c0bf85c9552330f80c03e5275fc38e49df26\n",
            "Successfully built dgm-utils\n",
            "Installing collected packages: dgm-utils\n",
            "  Attempting uninstall: dgm-utils\n",
            "    Found existing installation: dgm-utils 0.1.0\n",
            "    Uninstalling dgm-utils-0.1.0:\n",
            "      Successfully uninstalled dgm-utils-0.1.0\n",
            "Successfully installed dgm-utils-0.1.0\n"
          ]
        },
        {
          "data": {
            "application/vnd.colab-display-data+json": {
              "pip_warning": {
                "packages": [
                  "dgm_utils"
                ]
              }
            }
          },
          "metadata": {},
          "output_type": "display_data"
        }
      ],
      "source": [
        "REPO_NAME = \"2022-2023-DGM-MIPT-course\"\n",
        "!if [ -d {REPO_NAME} ]; then rm -Rf {REPO_NAME}; fi\n",
        "!git clone https://github.com/r-isachenko/{REPO_NAME}.git\n",
        "!cd {REPO_NAME}\n",
        "!pip install ./{REPO_NAME}/homeworks/\n",
        "!rm -Rf {REPO_NAME}"
      ]
    },
    {
      "cell_type": "code",
      "execution_count": null,
      "metadata": {
        "id": "m-44Dxk6SRAp"
      },
      "outputs": [],
      "source": [
        "from dgm_utils import train_model, plot_training_curves\n",
        "from dgm_utils import show_samples, visualize_images, load_pickle"
      ]
    },
    {
      "cell_type": "code",
      "execution_count": null,
      "metadata": {
        "id": "zk6rWePvdGFv"
      },
      "outputs": [],
      "source": [
        "import os\n",
        "import numpy as np\n",
        "import matplotlib.pyplot as plt\n",
        "\n",
        "from tqdm.notebook import tqdm\n",
        "\n",
        "import torch\n",
        "import torch.nn as nn\n",
        "import torch.nn.functional as F\n",
        "import torch.utils.data as data\n",
        "\n",
        "USE_CUDA = torch.cuda.is_available()"
      ]
    },
    {
      "cell_type": "code",
      "execution_count": null,
      "metadata": {
        "colab": {
          "base_uri": "https://localhost:8080/"
        },
        "id": "_m5NVPFaJGHO",
        "outputId": "08a3e179-0bf2-40f9-a90d-b3c0117b0496"
      },
      "outputs": [
        {
          "name": "stdout",
          "output_type": "stream",
          "text": [
            "Drive already mounted at /content/drive; to attempt to forcibly remount, call drive.mount(\"/content/drive\", force_remount=True).\n"
          ]
        }
      ],
      "source": [
        "from google.colab import drive\n",
        "drive.mount('/content/drive')"
      ]
    },
    {
      "cell_type": "markdown",
      "metadata": {
        "id": "KHouHarf_Hs-"
      },
      "source": [
        "## Task 2: PixelCNN on MNIST (5pt)\n",
        "\n",
        "[PixelCNN](https://arxiv.org/abs/1601.06759) model uses masked causal convoultions on images, we have discussed this model on the lecture 2.\n",
        "\n",
        "Here you have to train this model on MNIST images. See paper for details.\n",
        "\n",
        "Download the data from [here](https://drive.google.com/file/d/1hExV0C8wQWsrA4HfRTq9y9rMo7Pjd9Gw/view?usp=sharing) (you could use the cell below)."
      ]
    },
    {
      "cell_type": "code",
      "execution_count": null,
      "metadata": {
        "colab": {
          "base_uri": "https://localhost:8080/"
        },
        "id": "Ssrb-5jW_Ilh",
        "outputId": "a2c9e8b8-2896-4d03-9ba6-b29eea59cd74"
      },
      "outputs": [
        {
          "name": "stdout",
          "output_type": "stream",
          "text": [
            "/usr/local/lib/python3.7/dist-packages/gdown/cli.py:131: FutureWarning: Option `--id` was deprecated in version 4.3.1 and will be removed in 5.0. You don't need to pass it anymore to use a file ID.\n",
            "  category=FutureWarning,\n",
            "Downloading...\n",
            "From: https://drive.google.com/uc?id=1hExV0C8wQWsrA4HfRTq9y9rMo7Pjd9Gw\n",
            "To: /content/mnist.pkl\n",
            "100% 188M/188M [00:00<00:00, 195MB/s]\n"
          ]
        }
      ],
      "source": [
        "!gdown --id 1hExV0C8wQWsrA4HfRTq9y9rMo7Pjd9Gw"
      ]
    },
    {
      "cell_type": "code",
      "execution_count": null,
      "metadata": {
        "colab": {
          "base_uri": "https://localhost:8080/",
          "height": 375
        },
        "id": "PiOBcSvx_PN8",
        "outputId": "2b9c2e86-7f21-4d2a-b806-02cca1b819c7"
      },
      "outputs": [
        {
          "data": {
            "image/png": "[encoded data removed]",
            "text/plain": [
              "<Figure size 432x432 with 1 Axes>"
            ]
          },
          "metadata": {
            "needs_background": "light"
          },
          "output_type": "display_data"
        }
      ],
      "source": [
        "train_data, test_data = load_pickle('/content/mnist.pkl', flatten=False, binarize=True)\n",
        "# train_data, test_data = load_pickle('./mnist.pkl', flatten=False, binarize=True)\n",
        "visualize_images(train_data, 'MNIST samples')"
      ]
    },
    {
      "cell_type": "markdown",
      "metadata": {
        "id": "elXdTtB7_6Xl"
      },
      "source": [
        "Masked Convolution Layer is the basic building block of PixelCNN model. Now you have to implement it."
      ]
    },
    {
      "cell_type": "code",
      "execution_count": null,
      "metadata": {
        "id": "ybALnsgO_PRW"
      },
      "outputs": [],
      "source": [
        "class MaskedConv2d(nn.Conv2d):\n",
        "    def __init__(self, mask_type, in_channels, out_channels, kernel_size=5):\n",
        "        assert mask_type in ['A', 'B']\n",
        "        super().__init__(in_channels=in_channels, out_channels=out_channels, kernel_size=kernel_size, padding=kernel_size // 2)\n",
        "        self.register_buffer('mask', torch.zeros_like(self.weight))\n",
        "        self.create_mask(mask_type)\n",
        "\n",
        "    def forward(self, input):\n",
        "        # ====\n",
        "        # your code\n",
        "        # with torch.no_grad():\n",
        "        self.weight.data *= self.mask\n",
        "        return super().forward(input)\n",
        "        # ====\n",
        "\n",
        "    def create_mask(self, mask_type):\n",
        "        # ====\n",
        "        # your code\n",
        "        # do not forget about mask_type\n",
        "        \n",
        "        assert self.kernel_size[0] % 2 == 1\n",
        "\n",
        "        center = self.kernel_size[0] // 2\n",
        "        self.mask[:, :, :center, :] = 1\n",
        "        self.mask[:, :, :center+1, :center] = 1\n",
        "\n",
        "        if mask_type == \"B\":\n",
        "            self.mask[:, :, center, center] = 1\n",
        "        # ====\n",
        "\n",
        "\n",
        "def test_masked_conv2d():\n",
        "    layer = MaskedConv2d('A', 2, 2)\n",
        "    assert np.allclose(layer.mask[:, :, 2, 2].numpy(), np.zeros((2, 2)))\n",
        "\n",
        "    layer = MaskedConv2d('B', 2, 2)\n",
        "    assert np.allclose(layer.mask[:, :, 2, 2].numpy(), np.ones((2, 2)))\n",
        "\n",
        "\n",
        "test_masked_conv2d()"
      ]
    },
    {
      "cell_type": "code",
      "execution_count": null,
      "metadata": {
        "colab": {
          "base_uri": "https://localhost:8080/"
        },
        "id": "XnaqClxP9YM_",
        "outputId": "3dd1b5a9-95b4-41a4-bf12-82b7876519ca"
      },
      "outputs": [
        {
          "name": "stdout",
          "output_type": "stream",
          "text": [
            "tensor([[[[1., 1., 1., 1., 1.],\n",
            "          [1., 1., 1., 1., 1.],\n",
            "          [1., 1., 1., 0., 0.],\n",
            "          [0., 0., 0., 0., 0.],\n",
            "          [0., 0., 0., 0., 0.]]]])\n",
            "tensor([[[[1., 1., 1., 1., 1.],\n",
            "          [1., 1., 1., 1., 1.],\n",
            "          [1., 1., 0., 0., 0.],\n",
            "          [0., 0., 0., 0., 0.],\n",
            "          [0., 0., 0., 0., 0.]]]])\n"
          ]
        }
      ],
      "source": [
        "print(MaskedConv2d(\"B\", 1, 1, 5).mask)\n",
        "print(MaskedConv2d(\"A\", 1, 1, 5).mask)"
      ]
    },
    {
      "cell_type": "markdown",
      "metadata": {
        "id": "lPw0osOrAJFm"
      },
      "source": [
        "[Layer Normalization](https://arxiv.org/abs/1607.06450) helps to stabilize training process."
      ]
    },
    {
      "cell_type": "code",
      "execution_count": null,
      "metadata": {
        "id": "npUNrimpAGUZ"
      },
      "outputs": [],
      "source": [
        "class LayerNorm(nn.LayerNorm):\n",
        "    def __init__(self, n_filters):\n",
        "        super().__init__(n_filters)\n",
        "\n",
        "    def forward(self, x):\n",
        "        x = x.permute(0, 2, 3, 1).contiguous()\n",
        "        x = super().forward(x)\n",
        "        return x.permute(0, 3, 1, 2).contiguous()"
      ]
    },
    {
      "cell_type": "markdown",
      "metadata": {
        "id": "11_PstPkAXig"
      },
      "source": [
        "Now we are ready to construct the main PixelCNN model."
      ]
    },
    {
      "cell_type": "code",
      "execution_count": null,
      "metadata": {
        "id": "xC6E-hrHALYf"
      },
      "outputs": [],
      "source": [
        "class PixelCNN(nn.Module):\n",
        "    def __init__(\n",
        "        self, \n",
        "        input_shape, \n",
        "        n_filters=64, \n",
        "        kernel_size=7, \n",
        "        n_layers=5, \n",
        "        use_layer_norm=True\n",
        "    ):\n",
        "      \n",
        "        super().__init__()\n",
        "        self.input_shape = input_shape\n",
        "        # ====\n",
        "        # your code\n",
        "        # apply the sequence of MaskedConv2d -> LayerNorm (it is optional) -> ReLU\n",
        "        # the last layer should be MaskedConv2d (not ReLU)\n",
        "        # Note 1: the first conv layer should be of type 'A'\n",
        "        # Note 2: final output_dim in MaskedConv2d must be 2\n",
        "\n",
        "        if use_layer_norm:\n",
        "          block = nn.Sequential(\n",
        "              MaskedConv2d('B', n_filters, n_filters, kernel_size=kernel_size),\n",
        "              LayerNorm(n_filters),\n",
        "              nn.ReLU(),\n",
        "          )\n",
        "        else:\n",
        "          block = nn.Sequential(\n",
        "              MaskedConv2d('B', n_filters, n_filters, kernel_size=kernel_size),\n",
        "              nn.ReLU(),\n",
        "          )\n",
        "        \n",
        "        packed_blocks = [block] * (n_layers-3)\n",
        "        self.net = nn.Sequential(\n",
        "            MaskedConv2d('A', 1, n_filters // 2, kernel_size=kernel_size),\n",
        "            nn.ReLU(),\n",
        "            MaskedConv2d('B', n_filters // 2, n_filters, kernel_size=kernel_size),\n",
        "            *packed_blocks,\n",
        "            MaskedConv2d('B', n_filters, n_filters // 2, kernel_size=kernel_size),\n",
        "            nn.ReLU(), \n",
        "            MaskedConv2d('B', n_filters // 2, 2, kernel_size=kernel_size)\n",
        "        )\n",
        "        \n",
        "        # ====\n",
        "\n",
        "    def forward(self, x):\n",
        "        # read the forward method carefully\n",
        "        batch_size = x.shape[0]\n",
        "        out = (x.float() - 0.5) / 0.5\n",
        "        out = self.net(out)\n",
        "        return out.view(batch_size, 2, 1, *self.input_shape)\n",
        "\n",
        "    def loss(self, x):\n",
        "        # ====\n",
        "        # your code\n",
        "        x = x.long()\n",
        "        total_loss = F.cross_entropy(self.forward(x), x)\n",
        "        # ====\n",
        "        return {'total_loss': total_loss}\n",
        "\n",
        "    def sample(self, n):\n",
        "        # read carefully the sampling process\n",
        "        samples = torch.zeros(n, 1, *self.input_shape).cuda()\n",
        "        with torch.no_grad():\n",
        "            for r in range(self.input_shape[0]):\n",
        "                for c in range(self.input_shape[1]):\n",
        "                    logits = self(samples)[:, :, :, r, c]\n",
        "                    probs = F.softmax(logits, dim=1).squeeze(-1)\n",
        "                    samples[:, 0, r, c] = torch.multinomial(probs, num_samples=1).squeeze(-1)\n",
        "        return samples.cpu().numpy()"
      ]
    },
    {
      "cell_type": "code",
      "execution_count": null,
      "metadata": {
        "colab": {
          "base_uri": "https://localhost:8080/",
          "height": 49,
          "referenced_widgets": [
            "59333da80f9b4cd0b8016296ee7e5c52",
            "3c5edddd34cc4a9e868b50fe3e52201d",
            "afd3693cdb8b42788002d3f30ff5276d",
            "6a99cd626df54bd6b86be5b7d126bcdb",
            "39addff714fa4f169ba73d6bae8cd0b1",
            "e1ba6c28cf1e42cdb12697f343da5e4e",
            "b931b9aceb664dbb96fb7d3d3f7ce069",
            "51c51756aaca47aab31df07fc8b98c2c",
            "c842d8c77d684648a4fc5661c77aee5e",
            "91034a12ab844211bb1d2b6c7c910bb5",
            "631861f8f6b341a8b675c50565e53426"
          ]
        },
        "id": "9FI5foNQBlr5",
        "outputId": "4b326781-4483-403d-8f4e-541766349592"
      },
      "outputs": [
        {
          "data": {
            "application/vnd.jupyter.widget-view+json": {
              "model_id": "59333da80f9b4cd0b8016296ee7e5c52",
              "version_major": 2,
              "version_minor": 0
            },
            "text/plain": [
              "  0%|          | 0/10 [00:00<?, ?it/s]"
            ]
          },
          "metadata": {},
          "output_type": "display_data"
        }
      ],
      "source": [
        "# ====\n",
        "# your code\n",
        "# choose these parameters\n",
        "# (here you could see the tips for the hyperparameters, they could help you, \n",
        "# but sometimes you could find more appropriate values,\n",
        "# experiment with them.)\n",
        "EPOCHS = 10           # > 5\n",
        "BATCH_SIZE = 64       # any adequate value\n",
        "LR = 3e-4             # < 1e-2\n",
        "N_LAYERS = 9          # < 10\n",
        "N_FILTERS = 64        # < 128\n",
        "USE_LAYER_NORM = True\n",
        "# ====\n",
        "\n",
        "model = PixelCNN(\n",
        "    input_shape=(28, 28), \n",
        "    n_filters=N_FILTERS, \n",
        "    kernel_size=5, \n",
        "    n_layers=N_LAYERS, \n",
        "    use_layer_norm=USE_LAYER_NORM\n",
        ")\n",
        "\n",
        "loss = model.loss(torch.zeros(1, 1, 28, 28))\n",
        "assert isinstance(loss, dict)\n",
        "assert 'total_loss' in loss\n",
        "\n",
        "train_loader = data.DataLoader(train_data, batch_size=BATCH_SIZE, shuffle=True)\n",
        "test_loader = data.DataLoader(test_data, batch_size=BATCH_SIZE)\n",
        "train_losses, test_losses = train_model(\n",
        "    model, \n",
        "    train_loader, \n",
        "    test_loader, \n",
        "    epochs=EPOCHS, \n",
        "    lr=LR, \n",
        "    use_tqdm=True, \n",
        "    use_cuda=USE_CUDA\n",
        ")\n",
        "\n",
        "assert test_losses['total_loss'][-1] < 0.10"
      ]
    },
    {
      "cell_type": "markdown",
      "metadata": {
        "id": "oLR1d8HICihS"
      },
      "source": [
        "Even if the test loss is bigger than the value in assert, try to visualize train/test curves, it could find you to find the bug."
      ]
    },
    {
      "cell_type": "code",
      "execution_count": null,
      "metadata": {
        "colab": {
          "base_uri": "https://localhost:8080/",
          "height": 286
        },
        "id": "RB0GxIlhvBbZ",
        "outputId": "20db78e1-b2ae-43ac-c1e7-9f47e5817cbf"
      },
      "outputs": [
        {
          "data": {
            "image/png": "[encoded data removed]",
            "text/plain": [
              "<Figure size 432x288 with 1 Axes>"
            ]
          },
          "metadata": {
            "needs_background": "light"
          },
          "output_type": "display_data"
        }
      ],
      "source": [
        "plot_training_curves(train_losses, test_losses)"
      ]
    },
    {
      "cell_type": "code",
      "execution_count": null,
      "metadata": {
        "colab": {
          "base_uri": "https://localhost:8080/",
          "height": 286
        },
        "id": "RIiyqsSRCZXs",
        "outputId": "4941b068-4f37-487f-f0dc-5b2fda6c450c"
      },
      "outputs": [
        {
          "data": {
            "image/png": "[encoded data removed]",
            "text/plain": [
              "<Figure size 432x288 with 1 Axes>"
            ]
          },
          "metadata": {
            "needs_background": "light"
          },
          "output_type": "display_data"
        }
      ],
      "source": [
        "plot_training_curves(train_losses, test_losses)"
      ]
    },
    {
      "cell_type": "markdown",
      "metadata": {
        "id": "bdMY__h8CwE5"
      },
      "source": [
        "Now we sample the new images from the model. You have to emphasize that the sampling from the autoregressive model is slow, because it is a sequential process."
      ]
    },
    {
      "cell_type": "code",
      "execution_count": null,
      "metadata": {
        "colab": {
          "base_uri": "https://localhost:8080/",
          "height": 375
        },
        "id": "skwg5JlRCt0s",
        "outputId": "6de7ca83-f3ae-413c-cc4e-5c754c86b7ce"
      },
      "outputs": [
        {
          "data": {
            "image/png": "[encoded data removed]",
            "text/plain": [
              "<Figure size 432x432 with 1 Axes>"
            ]
          },
          "metadata": {
            "needs_background": "light"
          },
          "output_type": "display_data"
        }
      ],
      "source": [
        "samples = model.sample(25)\n",
        "show_samples(samples, title='MNIST samples', nrow=5)"
      ]
    },
    {
      "cell_type": "markdown",
      "metadata": {
        "id": "yUv1QflqDAwk"
      },
      "source": [
        "## Task 3: PixelCNN receptive field and autocompletion (3pt)\n",
        "\n",
        "The PixelCNN model is a powerful model. But the model has drawbacks.\n",
        "\n",
        "1. The model is sequential and sampling is really slow (it is a drawback of all AR models).\n",
        "\n",
        "2. Second, the receptive field of the model is not so large. Even if the model is well-trained, the samples do not have long-range history. "
      ]
    },
    {
      "cell_type": "markdown",
      "metadata": {
        "id": "6LK1ttmcqfvW"
      },
      "source": [
        "### Receptive field\n",
        "\n",
        "To validate the second point and check our implementation of masked convolutions, let try to visualize the receptive field of the model. \n",
        "\n",
        "We should see that with increasing number of convolutional layers, the receptive field grows. The receptive field can be empirically measured by backpropagating an arbitrary loss for the output features of a specific pixel with respect to the input. We implement this idea below, and visualize the receptive field below."
      ]
    },
    {
      "cell_type": "code",
      "execution_count": null,
      "metadata": {
        "id": "J1ekd7rGDBTi"
      },
      "outputs": [],
      "source": [
        "def plot_receptive_field(model, model_name):\n",
        "    # ====\n",
        "    # your code\n",
        "    # 1) create tensor with zeros and set required_grad to True.\n",
        "    # 2) apply model to the tensor\n",
        "    # 3) apply backward() to the center pixel of model output\n",
        "    # 4) take the gradient with respect to input\n",
        "    # 5) binary receptive field is an indicator map in which we stay 1's if gradient more than 1e-8\n",
        "    # 6) weighted receptive field is the normalized gradient (values lies in [0, 1])x\n",
        "    w, h = 28, 28\n",
        "    x_center = int(w / 2)\n",
        "    y_center = int(h / 2)\n",
        "    model_input = torch.zeros(1, 1, w, h).cuda()\n",
        "    model_input.requires_grad = True\n",
        "    model_output = model(model_input)\n",
        "    masked_place = model_output[:, :, :, x_center, y_center].mean()\n",
        "\n",
        "    masked_place.backward()\n",
        "\n",
        "    grad = model_input.grad\n",
        "\n",
        "    binary_map = (grad > 1e-8).float().reshape(28, 28).cpu()\n",
        "    weighted_map = (grad / grad.max()).reshape(28, 28).cpu()\n",
        "    # ====\n",
        "\n",
        "    # we stack the maps to get RGB image\n",
        "    binary_map = np.stack([binary_map, binary_map, binary_map], axis=-1)\n",
        "    weighted_map = np.stack([weighted_map, weighted_map, weighted_map], axis=-1)\n",
        "\n",
        "    # center point will be red\n",
        "    binary_map[x_center, y_center] = [1, 0, 0]\n",
        "    weighted_map[x_center, y_center] = [1, 0, 0]\n",
        "\n",
        "    # plt.imshow(binary_map)\n",
        "\n",
        "    fig, ax = plt.subplots(1,2, figsize=(10, 6))\n",
        "    ax[0].imshow(weighted_map, vmin=0.0, vmax=1.0)\n",
        "    ax[1].imshow(binary_map, vmin=0.0, vmax=1.0)\n",
        "\n",
        "    ax[0].set_title(f\"Weighted receptive field for {model_name}\")\n",
        "    ax[1].set_title(f\"Binary receptive field for {model_name}\")\n",
        "    \n",
        "    ax[0].axis('off')\n",
        "    ax[1].axis('off')\n",
        "    plt.show()"
      ]
    },
    {
      "cell_type": "code",
      "execution_count": null,
      "metadata": {
        "colab": {
          "base_uri": "https://localhost:8080/",
          "height": 1000
        },
        "id": "ruOurWdFDIYP",
        "outputId": "fa59ef83-dc66-4206-8819-864f678c1477"
      },
      "outputs": [
        {
          "name": "stderr",
          "output_type": "stream",
          "text": [
            "WARNING:matplotlib.image:Clipping input data to the valid range for imshow with RGB data ([0..1] for floats or [0..255] for integers).\n"
          ]
        },
        {
          "data": {
            "image/png": "[encoded data removed]",
            "text/plain": [
              "<Figure size 720x432 with 2 Axes>"
            ]
          },
          "metadata": {
            "needs_background": "light"
          },
          "output_type": "display_data"
        },
        {
          "name": "stderr",
          "output_type": "stream",
          "text": [
            "WARNING:matplotlib.image:Clipping input data to the valid range for imshow with RGB data ([0..1] for floats or [0..255] for integers).\n"
          ]
        },
        {
          "data": {
            "image/png": "[encoded data removed]",
            "text/plain": [
              "<Figure size 720x432 with 2 Axes>"
            ]
          },
          "metadata": {
            "needs_background": "light"
          },
          "output_type": "display_data"
        },
        {
          "name": "stderr",
          "output_type": "stream",
          "text": [
            "WARNING:matplotlib.image:Clipping input data to the valid range for imshow with RGB data ([0..1] for floats or [0..255] for integers).\n"
          ]
        },
        {
          "data": {
            "image/png": "[encoded data removed]",
            "text/plain": [
              "<Figure size 720x432 with 2 Axes>"
            ]
          },
          "metadata": {
            "needs_background": "light"
          },
          "output_type": "display_data"
        },
        {
          "name": "stderr",
          "output_type": "stream",
          "text": [
            "WARNING:matplotlib.image:Clipping input data to the valid range for imshow with RGB data ([0..1] for floats or [0..255] for integers).\n"
          ]
        },
        {
          "data": {
            "image/png": "[encoded data removed]",
            "text/plain": [
              "<Figure size 720x432 with 2 Axes>"
            ]
          },
          "metadata": {
            "needs_background": "light"
          },
          "output_type": "display_data"
        }
      ],
      "source": [
        "for n_layers in [1, 3, 5, 6]:\n",
        "    model = PixelCNN(\n",
        "        input_shape=(28, 28), \n",
        "        n_filters=32, \n",
        "        kernel_size=5, \n",
        "        n_layers=n_layers, \n",
        "        use_layer_norm=True\n",
        "    )\n",
        "    if USE_CUDA:\n",
        "        model = model.cuda()\n",
        "    plot_receptive_field(model, model_name=f\"PixelCNN {n_layers} layers\")"
      ]
    },
    {
      "cell_type": "markdown",
      "metadata": {
        "id": "Njl3VAmruh_v"
      },
      "source": [
        "You have to see that PixelCNN has strange blind spot in binary receptive field plot on the right side. This is a known issue of PixelCNN model. Please, try to understand why it happens. \n",
        "\n",
        "One way to solve this problem is a [GatedPixelCNN](https://arxiv.org/pdf/1606.05328.pdf) model (see paper, if you are interested in)."
      ]
    },
    {
      "cell_type": "markdown",
      "metadata": {
        "id": "z8eXfFdWzoVu"
      },
      "source": [
        "### Image autocompletion\n",
        "\n",
        "The last feature of autoregressive model that we try is auto-completing an image. As autoregressive models predict pixels one by one, we can set the first pixels to predefined values and check how the model completes the image. \n",
        "\n",
        "For implementing this, we just need to skip the iterations in the sampling loop that already have a value unequals to -1. \n",
        "We redefine the sample method in out PixelCNN class to allow it to take init of the sample."
      ]
    },
    {
      "cell_type": "code",
      "execution_count": null,
      "metadata": {
        "id": "2X24nc_eqET-"
      },
      "outputs": [],
      "source": [
        "class PixelCNNAutoComplete(PixelCNN):\n",
        "    def sample(self, n, init=None):\n",
        "        # ====\n",
        "        # your code\n",
        "        # this method almost the same as the method of the base PixelCNN model\n",
        "        # but now if init is given, this tensor will be used as a starting image. \n",
        "        # The pixels to fill should be -1 in the input tensor.\n",
        "        if init is None:\n",
        "            return super().sample(n)\n",
        "\n",
        "        init = init.cuda()\n",
        "        with torch.no_grad():\n",
        "            for r in range(self.input_shape[0]):\n",
        "                for c in range(self.input_shape[1]):\n",
        "                    if init[0, 0, r, c] == -1:\n",
        "                        logits = self(init)[:, :, :, r, c]\n",
        "                        probs = F.softmax(logits, dim=1).squeeze(-1)\n",
        "                        init[:, 0, r, c] = torch.multinomial(probs, num_samples=1).squeeze(-1)\n",
        "        return init.cpu().numpy()\n",
        "        # ====\n"
      ]
    },
    {
      "cell_type": "markdown",
      "metadata": {
        "id": "l6x2bX4Z0w5E"
      },
      "source": [
        "You have to repeat the model training."
      ]
    },
    {
      "cell_type": "code",
      "execution_count": null,
      "metadata": {
        "id": "qFdMAilywnI-"
      },
      "outputs": [],
      "source": [
        "model = PixelCNNAutoComplete(\n",
        "    input_shape=(28, 28), \n",
        "    n_filters=N_FILTERS, \n",
        "    kernel_size=5, \n",
        "    n_layers=N_LAYERS, \n",
        "    use_layer_norm=USE_LAYER_NORM\n",
        ")"
      ]
    },
    {
      "cell_type": "code",
      "execution_count": null,
      "metadata": {
        "colab": {
          "base_uri": "https://localhost:8080/",
          "height": 49,
          "referenced_widgets": [
            "86aec34df8734adb9960a4f23caa1baf",
            "55d75ef93b5a44b88e981e5017c26f62",
            "252105c381f146108402b473a8803c87",
            "449d861ad8574d5bb070a35e058ee7da",
            "cb0d21824c7549d4b0fd3f3b637ff004",
            "df2ab6b7f33046349f17473a30ec6c91",
            "c0e9757b0616465b8e035eb79587a7f1",
            "ccaee25b31204253841e9b2ab1f87fae",
            "77891f14bfa8441d97a449ebc5b53863",
            "c68c8e96a947482c8e2d06994ea775a2",
            "1bb2e508b6b347479b64d9d8ce042055"
          ]
        },
        "id": "S4Iq-_JHzID0",
        "outputId": "cfbcd415-c121-4749-b731-2b7a01f3afe9"
      },
      "outputs": [
        {
          "data": {
            "application/vnd.jupyter.widget-view+json": {
              "model_id": "86aec34df8734adb9960a4f23caa1baf",
              "version_major": 2,
              "version_minor": 0
            },
            "text/plain": [
              "  0%|          | 0/10 [00:00<?, ?it/s]"
            ]
          },
          "metadata": {},
          "output_type": "display_data"
        }
      ],
      "source": [
        "train_losses, test_losses = train_model(\n",
        "    model, \n",
        "    train_loader, \n",
        "    test_loader, \n",
        "    epochs=EPOCHS, \n",
        "    lr=LR, \n",
        "    use_tqdm=True, \n",
        "    use_cuda=USE_CUDA\n",
        ")\n",
        "\n",
        "assert test_losses['total_loss'][-1] < 0.10"
      ]
    },
    {
      "cell_type": "markdown",
      "metadata": {
        "id": "Rd9rpg2I0paF"
      },
      "source": [
        "We randomly take images from the training set, mask the lower half of the image (set -1's), and let the model autocomplete it. We do this several times for each image to see the diversity of samples."
      ]
    },
    {
      "cell_type": "code",
      "execution_count": null,
      "metadata": {
        "colab": {
          "base_uri": "https://localhost:8080/",
          "height": 992
        },
        "id": "yR0zivWlwsYR",
        "outputId": "675a044f-7f23-49a8-a51f-567ff4aeb25c"
      },
      "outputs": [
        {
          "data": {
            "image/png": "[encoded data removed]",
            "text/plain": [
              "<Figure size 432x432 with 1 Axes>"
            ]
          },
          "metadata": {
            "needs_background": "light"
          },
          "output_type": "display_data"
        },
        {
          "data": {
            "image/png": "[encoded data removed]",
            "text/plain": [
              "<Figure size 432x432 with 1 Axes>"
            ]
          },
          "metadata": {
            "needs_background": "light"
          },
          "output_type": "display_data"
        },
        {
          "data": {
            "image/png": "[encoded data removed]",
            "text/plain": [
              "<Figure size 432x432 with 1 Axes>"
            ]
          },
          "metadata": {
            "needs_background": "light"
          },
          "output_type": "display_data"
        },
        {
          "data": {
            "image/png": "[encoded data removed]",
            "text/plain": [
              "<Figure size 432x432 with 1 Axes>"
            ]
          },
          "metadata": {
            "needs_background": "light"
          },
          "output_type": "display_data"
        },
        {
          "data": {
            "image/png": "[encoded data removed]",
            "text/plain": [
              "<Figure size 432x432 with 1 Axes>"
            ]
          },
          "metadata": {
            "needs_background": "light"
          },
          "output_type": "display_data"
        },
        {
          "data": {
            "image/png": "[encoded data removed]",
            "text/plain": [
              "<Figure size 432x432 with 1 Axes>"
            ]
          },
          "metadata": {
            "needs_background": "light"
          },
          "output_type": "display_data"
        }
      ],
      "source": [
        "def autocomplete_image(image, model, n_samples):\n",
        "    # Remove lower half of the image\n",
        "    image_init = image.copy()\n",
        "    image_init[:, image.shape[1] // 2:, :] = -1\n",
        "    samples = np.stack([image, np.maximum(image_init, 0)])\n",
        "    show_samples(samples, title=\"Original image and input image to sampling\", nrow=2)\n",
        "    # Generate completions\n",
        "    image_init = torch.tensor(image_init)\n",
        "    image_init = image_init.unsqueeze(dim=0).expand(n_samples, -1, -1, -1).cuda()\n",
        "    img_generated = model.sample(n_samples, image_init)\n",
        "    show_samples(img_generated, title=\"n_samples\", nrow=4)\n",
        "\n",
        "\n",
        "for i in range(1, 4):\n",
        "    autocomplete_image(train_data[i], model, n_samples=4)"
      ]
    }
  ],
  "metadata": {
    "colab": {
      "collapsed_sections": [
        "ZB-BwxUy96-P"
      ],
      "provenance": []
    },
    "kernelspec": {
      "display_name": "Python 3 (ipykernel)",
      "language": "python",
      "name": "python3"
    },
    "language_info": {
      "codemirror_mode": {
        "name": "ipython",
        "version": 3
      },
      "file_extension": ".py",
      "mimetype": "text/x-python",
      "name": "python",
      "nbconvert_exporter": "python",
      "pygments_lexer": "ipython3",
      "version": "3.8.12"
    },
    "vscode": {
      "interpreter": {
        "hash": "784c2e2ba9cdfc1ce1e8c565791a35aa78e810f3990b00899de93c9f5ea5b088"
      }
    },
    "widgets": {
      "application/vnd.jupyter.widget-state+json": {
        "1bb2e508b6b347479b64d9d8ce042055": {
          "model_module": "@jupyter-widgets/controls",
          "model_module_version": "1.5.0",
          "model_name": "DescriptionStyleModel",
          "state": {
            "_model_module": "@jupyter-widgets/controls",
            "_model_module_version": "1.5.0",
            "_model_name": "DescriptionStyleModel",
            "_view_count": null,
            "_view_module": "@jupyter-widgets/base",
            "_view_module_version": "1.2.0",
            "_view_name": "StyleView",
            "description_width": ""
          }
        },
        "252105c381f146108402b473a8803c87": {
          "model_module": "@jupyter-widgets/controls",
          "model_module_version": "1.5.0",
          "model_name": "FloatProgressModel",
          "state": {
            "_dom_classes": [],
            "_model_module": "@jupyter-widgets/controls",
            "_model_module_version": "1.5.0",
            "_model_name": "FloatProgressModel",
            "_view_count": null,
            "_view_module": "@jupyter-widgets/controls",
            "_view_module_version": "1.5.0",
            "_view_name": "ProgressView",
            "bar_style": "success",
            "description": "",
            "description_tooltip": null,
            "layout": "IPY_MODEL_ccaee25b31204253841e9b2ab1f87fae",
            "max": 10,
            "min": 0,
            "orientation": "horizontal",
            "style": "IPY_MODEL_77891f14bfa8441d97a449ebc5b53863",
            "value": 10
          }
        },
        "39addff714fa4f169ba73d6bae8cd0b1": {
          "model_module": "@jupyter-widgets/base",
          "model_module_version": "1.2.0",
          "model_name": "LayoutModel",
          "state": {
            "_model_module": "@jupyter-widgets/base",
            "_model_module_version": "1.2.0",
            "_model_name": "LayoutModel",
            "_view_count": null,
            "_view_module": "@jupyter-widgets/base",
            "_view_module_version": "1.2.0",
            "_view_name": "LayoutView",
            "align_content": null,
            "align_items": null,
            "align_self": null,
            "border": null,
            "bottom": null,
            "display": null,
            "flex": null,
            "flex_flow": null,
            "grid_area": null,
            "grid_auto_columns": null,
            "grid_auto_flow": null,
            "grid_auto_rows": null,
            "grid_column": null,
            "grid_gap": null,
            "grid_row": null,
            "grid_template_areas": null,
            "grid_template_columns": null,
            "grid_template_rows": null,
            "height": null,
            "justify_content": null,
            "justify_items": null,
            "left": null,
            "margin": null,
            "max_height": null,
            "max_width": null,
            "min_height": null,
            "min_width": null,
            "object_fit": null,
            "object_position": null,
            "order": null,
            "overflow": null,
            "overflow_x": null,
            "overflow_y": null,
            "padding": null,
            "right": null,
            "top": null,
            "visibility": null,
            "width": null
          }
        },
        "3c5edddd34cc4a9e868b50fe3e52201d": {
          "model_module": "@jupyter-widgets/controls",
          "model_module_version": "1.5.0",
          "model_name": "HTMLModel",
          "state": {
            "_dom_classes": [],
            "_model_module": "@jupyter-widgets/controls",
            "_model_module_version": "1.5.0",
            "_model_name": "HTMLModel",
            "_view_count": null,
            "_view_module": "@jupyter-widgets/controls",
            "_view_module_version": "1.5.0",
            "_view_name": "HTMLView",
            "description": "",
            "description_tooltip": null,
            "layout": "IPY_MODEL_e1ba6c28cf1e42cdb12697f343da5e4e",
            "placeholder": "​",
            "style": "IPY_MODEL_b931b9aceb664dbb96fb7d3d3f7ce069",
            "value": "100%"
          }
        },
        "449d861ad8574d5bb070a35e058ee7da": {
          "model_module": "@jupyter-widgets/controls",
          "model_module_version": "1.5.0",
          "model_name": "HTMLModel",
          "state": {
            "_dom_classes": [],
            "_model_module": "@jupyter-widgets/controls",
            "_model_module_version": "1.5.0",
            "_model_name": "HTMLModel",
            "_view_count": null,
            "_view_module": "@jupyter-widgets/controls",
            "_view_module_version": "1.5.0",
            "_view_name": "HTMLView",
            "description": "",
            "description_tooltip": null,
            "layout": "IPY_MODEL_c68c8e96a947482c8e2d06994ea775a2",
            "placeholder": "​",
            "style": "IPY_MODEL_1bb2e508b6b347479b64d9d8ce042055",
            "value": " 10/10 [06:15&lt;00:00, 37.54s/it]"
          }
        },
        "51c51756aaca47aab31df07fc8b98c2c": {
          "model_module": "@jupyter-widgets/base",
          "model_module_version": "1.2.0",
          "model_name": "LayoutModel",
          "state": {
            "_model_module": "@jupyter-widgets/base",
            "_model_module_version": "1.2.0",
            "_model_name": "LayoutModel",
            "_view_count": null,
            "_view_module": "@jupyter-widgets/base",
            "_view_module_version": "1.2.0",
            "_view_name": "LayoutView",
            "align_content": null,
            "align_items": null,
            "align_self": null,
            "border": null,
            "bottom": null,
            "display": null,
            "flex": null,
            "flex_flow": null,
            "grid_area": null,
            "grid_auto_columns": null,
            "grid_auto_flow": null,
            "grid_auto_rows": null,
            "grid_column": null,
            "grid_gap": null,
            "grid_row": null,
            "grid_template_areas": null,
            "grid_template_columns": null,
            "grid_template_rows": null,
            "height": null,
            "justify_content": null,
            "justify_items": null,
            "left": null,
            "margin": null,
            "max_height": null,
            "max_width": null,
            "min_height": null,
            "min_width": null,
            "object_fit": null,
            "object_position": null,
            "order": null,
            "overflow": null,
            "overflow_x": null,
            "overflow_y": null,
            "padding": null,
            "right": null,
            "top": null,
            "visibility": null,
            "width": null
          }
        },
        "55d75ef93b5a44b88e981e5017c26f62": {
          "model_module": "@jupyter-widgets/controls",
          "model_module_version": "1.5.0",
          "model_name": "HTMLModel",
          "state": {
            "_dom_classes": [],
            "_model_module": "@jupyter-widgets/controls",
            "_model_module_version": "1.5.0",
            "_model_name": "HTMLModel",
            "_view_count": null,
            "_view_module": "@jupyter-widgets/controls",
            "_view_module_version": "1.5.0",
            "_view_name": "HTMLView",
            "description": "",
            "description_tooltip": null,
            "layout": "IPY_MODEL_df2ab6b7f33046349f17473a30ec6c91",
            "placeholder": "​",
            "style": "IPY_MODEL_c0e9757b0616465b8e035eb79587a7f1",
            "value": "100%"
          }
        },
        "59333da80f9b4cd0b8016296ee7e5c52": {
          "model_module": "@jupyter-widgets/controls",
          "model_module_version": "1.5.0",
          "model_name": "HBoxModel",
          "state": {
            "_dom_classes": [],
            "_model_module": "@jupyter-widgets/controls",
            "_model_module_version": "1.5.0",
            "_model_name": "HBoxModel",
            "_view_count": null,
            "_view_module": "@jupyter-widgets/controls",
            "_view_module_version": "1.5.0",
            "_view_name": "HBoxView",
            "box_style": "",
            "children": [
              "IPY_MODEL_3c5edddd34cc4a9e868b50fe3e52201d",
              "IPY_MODEL_afd3693cdb8b42788002d3f30ff5276d",
              "IPY_MODEL_6a99cd626df54bd6b86be5b7d126bcdb"
            ],
            "layout": "IPY_MODEL_39addff714fa4f169ba73d6bae8cd0b1"
          }
        },
        "631861f8f6b341a8b675c50565e53426": {
          "model_module": "@jupyter-widgets/controls",
          "model_module_version": "1.5.0",
          "model_name": "DescriptionStyleModel",
          "state": {
            "_model_module": "@jupyter-widgets/controls",
            "_model_module_version": "1.5.0",
            "_model_name": "DescriptionStyleModel",
            "_view_count": null,
            "_view_module": "@jupyter-widgets/base",
            "_view_module_version": "1.2.0",
            "_view_name": "StyleView",
            "description_width": ""
          }
        },
        "6a99cd626df54bd6b86be5b7d126bcdb": {
          "model_module": "@jupyter-widgets/controls",
          "model_module_version": "1.5.0",
          "model_name": "HTMLModel",
          "state": {
            "_dom_classes": [],
            "_model_module": "@jupyter-widgets/controls",
            "_model_module_version": "1.5.0",
            "_model_name": "HTMLModel",
            "_view_count": null,
            "_view_module": "@jupyter-widgets/controls",
            "_view_module_version": "1.5.0",
            "_view_name": "HTMLView",
            "description": "",
            "description_tooltip": null,
            "layout": "IPY_MODEL_91034a12ab844211bb1d2b6c7c910bb5",
            "placeholder": "​",
            "style": "IPY_MODEL_631861f8f6b341a8b675c50565e53426",
            "value": " 10/10 [06:16&lt;00:00, 37.60s/it]"
          }
        },
        "77891f14bfa8441d97a449ebc5b53863": {
          "model_module": "@jupyter-widgets/controls",
          "model_module_version": "1.5.0",
          "model_name": "ProgressStyleModel",
          "state": {
            "_model_module": "@jupyter-widgets/controls",
            "_model_module_version": "1.5.0",
            "_model_name": "ProgressStyleModel",
            "_view_count": null,
            "_view_module": "@jupyter-widgets/base",
            "_view_module_version": "1.2.0",
            "_view_name": "StyleView",
            "bar_color": null,
            "description_width": ""
          }
        },
        "86aec34df8734adb9960a4f23caa1baf": {
          "model_module": "@jupyter-widgets/controls",
          "model_module_version": "1.5.0",
          "model_name": "HBoxModel",
          "state": {
            "_dom_classes": [],
            "_model_module": "@jupyter-widgets/controls",
            "_model_module_version": "1.5.0",
            "_model_name": "HBoxModel",
            "_view_count": null,
            "_view_module": "@jupyter-widgets/controls",
            "_view_module_version": "1.5.0",
            "_view_name": "HBoxView",
            "box_style": "",
            "children": [
              "IPY_MODEL_55d75ef93b5a44b88e981e5017c26f62",
              "IPY_MODEL_252105c381f146108402b473a8803c87",
              "IPY_MODEL_449d861ad8574d5bb070a35e058ee7da"
            ],
            "layout": "IPY_MODEL_cb0d21824c7549d4b0fd3f3b637ff004"
          }
        },
        "91034a12ab844211bb1d2b6c7c910bb5": {
          "model_module": "@jupyter-widgets/base",
          "model_module_version": "1.2.0",
          "model_name": "LayoutModel",
          "state": {
            "_model_module": "@jupyter-widgets/base",
            "_model_module_version": "1.2.0",
            "_model_name": "LayoutModel",
            "_view_count": null,
            "_view_module": "@jupyter-widgets/base",
            "_view_module_version": "1.2.0",
            "_view_name": "LayoutView",
            "align_content": null,
            "align_items": null,
            "align_self": null,
            "border": null,
            "bottom": null,
            "display": null,
            "flex": null,
            "flex_flow": null,
            "grid_area": null,
            "grid_auto_columns": null,
            "grid_auto_flow": null,
            "grid_auto_rows": null,
            "grid_column": null,
            "grid_gap": null,
            "grid_row": null,
            "grid_template_areas": null,
            "grid_template_columns": null,
            "grid_template_rows": null,
            "height": null,
            "justify_content": null,
            "justify_items": null,
            "left": null,
            "margin": null,
            "max_height": null,
            "max_width": null,
            "min_height": null,
            "min_width": null,
            "object_fit": null,
            "object_position": null,
            "order": null,
            "overflow": null,
            "overflow_x": null,
            "overflow_y": null,
            "padding": null,
            "right": null,
            "top": null,
            "visibility": null,
            "width": null
          }
        },
        "afd3693cdb8b42788002d3f30ff5276d": {
          "model_module": "@jupyter-widgets/controls",
          "model_module_version": "1.5.0",
          "model_name": "FloatProgressModel",
          "state": {
            "_dom_classes": [],
            "_model_module": "@jupyter-widgets/controls",
            "_model_module_version": "1.5.0",
            "_model_name": "FloatProgressModel",
            "_view_count": null,
            "_view_module": "@jupyter-widgets/controls",
            "_view_module_version": "1.5.0",
            "_view_name": "ProgressView",
            "bar_style": "success",
            "description": "",
            "description_tooltip": null,
            "layout": "IPY_MODEL_51c51756aaca47aab31df07fc8b98c2c",
            "max": 10,
            "min": 0,
            "orientation": "horizontal",
            "style": "IPY_MODEL_c842d8c77d684648a4fc5661c77aee5e",
            "value": 10
          }
        },
        "b931b9aceb664dbb96fb7d3d3f7ce069": {
          "model_module": "@jupyter-widgets/controls",
          "model_module_version": "1.5.0",
          "model_name": "DescriptionStyleModel",
          "state": {
            "_model_module": "@jupyter-widgets/controls",
            "_model_module_version": "1.5.0",
            "_model_name": "DescriptionStyleModel",
            "_view_count": null,
            "_view_module": "@jupyter-widgets/base",
            "_view_module_version": "1.2.0",
            "_view_name": "StyleView",
            "description_width": ""
          }
        },
        "c0e9757b0616465b8e035eb79587a7f1": {
          "model_module": "@jupyter-widgets/controls",
          "model_module_version": "1.5.0",
          "model_name": "DescriptionStyleModel",
          "state": {
            "_model_module": "@jupyter-widgets/controls",
            "_model_module_version": "1.5.0",
            "_model_name": "DescriptionStyleModel",
            "_view_count": null,
            "_view_module": "@jupyter-widgets/base",
            "_view_module_version": "1.2.0",
            "_view_name": "StyleView",
            "description_width": ""
          }
        },
        "c68c8e96a947482c8e2d06994ea775a2": {
          "model_module": "@jupyter-widgets/base",
          "model_module_version": "1.2.0",
          "model_name": "LayoutModel",
          "state": {
            "_model_module": "@jupyter-widgets/base",
            "_model_module_version": "1.2.0",
            "_model_name": "LayoutModel",
            "_view_count": null,
            "_view_module": "@jupyter-widgets/base",
            "_view_module_version": "1.2.0",
            "_view_name": "LayoutView",
            "align_content": null,
            "align_items": null,
            "align_self": null,
            "border": null,
            "bottom": null,
            "display": null,
            "flex": null,
            "flex_flow": null,
            "grid_area": null,
            "grid_auto_columns": null,
            "grid_auto_flow": null,
            "grid_auto_rows": null,
            "grid_column": null,
            "grid_gap": null,
            "grid_row": null,
            "grid_template_areas": null,
            "grid_template_columns": null,
            "grid_template_rows": null,
            "height": null,
            "justify_content": null,
            "justify_items": null,
            "left": null,
            "margin": null,
            "max_height": null,
            "max_width": null,
            "min_height": null,
            "min_width": null,
            "object_fit": null,
            "object_position": null,
            "order": null,
            "overflow": null,
            "overflow_x": null,
            "overflow_y": null,
            "padding": null,
            "right": null,
            "top": null,
            "visibility": null,
            "width": null
          }
        },
        "c842d8c77d684648a4fc5661c77aee5e": {
          "model_module": "@jupyter-widgets/controls",
          "model_module_version": "1.5.0",
          "model_name": "ProgressStyleModel",
          "state": {
            "_model_module": "@jupyter-widgets/controls",
            "_model_module_version": "1.5.0",
            "_model_name": "ProgressStyleModel",
            "_view_count": null,
            "_view_module": "@jupyter-widgets/base",
            "_view_module_version": "1.2.0",
            "_view_name": "StyleView",
            "bar_color": null,
            "description_width": ""
          }
        },
        "cb0d21824c7549d4b0fd3f3b637ff004": {
          "model_module": "@jupyter-widgets/base",
          "model_module_version": "1.2.0",
          "model_name": "LayoutModel",
          "state": {
            "_model_module": "@jupyter-widgets/base",
            "_model_module_version": "1.2.0",
            "_model_name": "LayoutModel",
            "_view_count": null,
            "_view_module": "@jupyter-widgets/base",
            "_view_module_version": "1.2.0",
            "_view_name": "LayoutView",
            "align_content": null,
            "align_items": null,
            "align_self": null,
            "border": null,
            "bottom": null,
            "display": null,
            "flex": null,
            "flex_flow": null,
            "grid_area": null,
            "grid_auto_columns": null,
            "grid_auto_flow": null,
            "grid_auto_rows": null,
            "grid_column": null,
            "grid_gap": null,
            "grid_row": null,
            "grid_template_areas": null,
            "grid_template_columns": null,
            "grid_template_rows": null,
            "height": null,
            "justify_content": null,
            "justify_items": null,
            "left": null,
            "margin": null,
            "max_height": null,
            "max_width": null,
            "min_height": null,
            "min_width": null,
            "object_fit": null,
            "object_position": null,
            "order": null,
            "overflow": null,
            "overflow_x": null,
            "overflow_y": null,
            "padding": null,
            "right": null,
            "top": null,
            "visibility": null,
            "width": null
          }
        },
        "ccaee25b31204253841e9b2ab1f87fae": {
          "model_module": "@jupyter-widgets/base",
          "model_module_version": "1.2.0",
          "model_name": "LayoutModel",
          "state": {
            "_model_module": "@jupyter-widgets/base",
            "_model_module_version": "1.2.0",
            "_model_name": "LayoutModel",
            "_view_count": null,
            "_view_module": "@jupyter-widgets/base",
            "_view_module_version": "1.2.0",
            "_view_name": "LayoutView",
            "align_content": null,
            "align_items": null,
            "align_self": null,
            "border": null,
            "bottom": null,
            "display": null,
            "flex": null,
            "flex_flow": null,
            "grid_area": null,
            "grid_auto_columns": null,
            "grid_auto_flow": null,
            "grid_auto_rows": null,
            "grid_column": null,
            "grid_gap": null,
            "grid_row": null,
            "grid_template_areas": null,
            "grid_template_columns": null,
            "grid_template_rows": null,
            "height": null,
            "justify_content": null,
            "justify_items": null,
            "left": null,
            "margin": null,
            "max_height": null,
            "max_width": null,
            "min_height": null,
            "min_width": null,
            "object_fit": null,
            "object_position": null,
            "order": null,
            "overflow": null,
            "overflow_x": null,
            "overflow_y": null,
            "padding": null,
            "right": null,
            "top": null,
            "visibility": null,
            "width": null
          }
        },
        "df2ab6b7f33046349f17473a30ec6c91": {
          "model_module": "@jupyter-widgets/base",
          "model_module_version": "1.2.0",
          "model_name": "LayoutModel",
          "state": {
            "_model_module": "@jupyter-widgets/base",
            "_model_module_version": "1.2.0",
            "_model_name": "LayoutModel",
            "_view_count": null,
            "_view_module": "@jupyter-widgets/base",
            "_view_module_version": "1.2.0",
            "_view_name": "LayoutView",
            "align_content": null,
            "align_items": null,
            "align_self": null,
            "border": null,
            "bottom": null,
            "display": null,
            "flex": null,
            "flex_flow": null,
            "grid_area": null,
            "grid_auto_columns": null,
            "grid_auto_flow": null,
            "grid_auto_rows": null,
            "grid_column": null,
            "grid_gap": null,
            "grid_row": null,
            "grid_template_areas": null,
            "grid_template_columns": null,
            "grid_template_rows": null,
            "height": null,
            "justify_content": null,
            "justify_items": null,
            "left": null,
            "margin": null,
            "max_height": null,
            "max_width": null,
            "min_height": null,
            "min_width": null,
            "object_fit": null,
            "object_position": null,
            "order": null,
            "overflow": null,
            "overflow_x": null,
            "overflow_y": null,
            "padding": null,
            "right": null,
            "top": null,
            "visibility": null,
            "width": null
          }
        },
        "e1ba6c28cf1e42cdb12697f343da5e4e": {
          "model_module": "@jupyter-widgets/base",
          "model_module_version": "1.2.0",
          "model_name": "LayoutModel",
          "state": {
            "_model_module": "@jupyter-widgets/base",
            "_model_module_version": "1.2.0",
            "_model_name": "LayoutModel",
            "_view_count": null,
            "_view_module": "@jupyter-widgets/base",
            "_view_module_version": "1.2.0",
            "_view_name": "LayoutView",
            "align_content": null,
            "align_items": null,
            "align_self": null,
            "border": null,
            "bottom": null,
            "display": null,
            "flex": null,
            "flex_flow": null,
            "grid_area": null,
            "grid_auto_columns": null,
            "grid_auto_flow": null,
            "grid_auto_rows": null,
            "grid_column": null,
            "grid_gap": null,
            "grid_row": null,
            "grid_template_areas": null,
            "grid_template_columns": null,
            "grid_template_rows": null,
            "height": null,
            "justify_content": null,
            "justify_items": null,
            "left": null,
            "margin": null,
            "max_height": null,
            "max_width": null,
            "min_height": null,
            "min_width": null,
            "object_fit": null,
            "object_position": null,
            "order": null,
            "overflow": null,
            "overflow_x": null,
            "overflow_y": null,
            "padding": null,
            "right": null,
            "top": null,
            "visibility": null,
            "width": null
          }
        }
      }
    }
  },
  "nbformat": 4,
  "nbformat_minor": 0
}
